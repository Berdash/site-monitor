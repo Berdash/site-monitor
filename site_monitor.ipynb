{
  "cells": [
    {
      "cell_type": "code",
      "execution_count": 1,
      "metadata": {
        "tags": [],
        "id": "1YIIzfY6jVsY"
      },
      "outputs": [],
      "source": [
        "import requests\n",
        "import time\n",
        "import logging\n",
        "import os\n",
        "import warnings\n",
        "from datetime import datetime, timedelta\n",
        "from IPython.display import display\n",
        "import ipywidgets as widgets\n",
        "import aiohttp\n",
        "import asyncio\n",
        "import nest_asyncio\n",
        "\n",
        "# from urllib3.exceptions import InsecureRequestWarning\n",
        "# warnings.simplefilter('ignore', InsecureRequestWarning)"
      ]
    },
    {
      "cell_type": "code",
      "execution_count": null,
      "metadata": {
        "tags": [],
        "collapsed": true,
        "id": "BWvtBBvHjVsZ"
      },
      "outputs": [],
      "source": [
        "!pip install requests==2.26.0\n",
        "!pip install aiohttp==3.8.1\n",
        "!pip install nest-asyncio==1.5.1\n",
        "!pip install ipywidgets==7.6.5"
      ]
    },
    {
      "cell_type": "code",
      "execution_count": null,
      "metadata": {
        "tags": [],
        "id": "0nEgp478jVsa"
      },
      "outputs": [],
      "source": [
        "REQUEST_TIMEOUT = 10  #  Пауза между запросами в секундах\n",
        "PAUSE_BETWEEN_CHECKS = 30  # Пауза между проверками в секундах\n",
        "MONITORING_DAYS = 1  # Продолжительность мониторинга в днях\n",
        "MONITORING_DURATION = MONITORING_DAYS * 86400  # Продолжительность мониторинга в секундах (24 часа)"
      ]
    },
    {
      "cell_type": "code",
      "execution_count": null,
      "metadata": {
        "tags": [],
        "id": "dZep5PwgjVsa"
      },
      "outputs": [],
      "source": [
        "REPORT_FILE = 'site_availability_report.txt'  # Файл для отчета\n",
        "LOG_FILE = 'site_availability.log' # Файл для логирования"
      ]
    },
    {
      "cell_type": "code",
      "execution_count": null,
      "metadata": {
        "tags": [],
        "id": "MN-8PXMvjVsb"
      },
      "outputs": [],
      "source": [
        "class SiteMonitor:\n",
        "    def __init__(self, name, url):\n",
        "        self.name = name\n",
        "        self.url = url\n",
        "        self.is_up = True\n",
        "        self.downtime_seconds = 0\n",
        "        self.last_downtime = None\n",
        "        self.last_uptime = None\n",
        "\n",
        "    async def check_availability(self):\n",
        "        headers = {\n",
        "            'User-Agent': 'Mozilla/5.0 (Windows NT 10.0; Win64; x64) AppleWebKit/537.36 (KHTML, like Gecko) Chrome/58.0.3029.110 Safari/537.3'\n",
        "        }\n",
        "        try:\n",
        "            async with aiohttp.ClientSession() as session:\n",
        "                async with session.get(self.url, timeout=REQUEST_TIMEOUT, headers=headers) as response:\n",
        "                    response.raise_for_status()\n",
        "                    logging.info(f\"{self.name} - {datetime.now()} - сайт доступен\")\n",
        "                    return True\n",
        "        except Exception as e:\n",
        "            logging.error(f\"{self.name} - {datetime.now()} - отказ сайта: {str(e)}\")\n",
        "            return False\n",
        "\n",
        "    def log_status_change(self, status):\n",
        "        current_time = datetime.now()\n",
        "        if status and not self.is_up:\n",
        "            self.last_uptime = current_time\n",
        "            logging.info(f\"{self.name} - {current_time} - восстановление сайта\")\n",
        "            self.is_up = True\n",
        "        elif not status and self.is_up:\n",
        "            self.last_downtime = current_time\n",
        "            logging.error(f\"{self.name} - {current_time} - отказ сайта\")\n",
        "            self.is_up = False\n",
        "        if not status:\n",
        "            self.downtime_seconds += PAUSE_BETWEEN_CHECKS"
      ]
    },
    {
      "cell_type": "code",
      "execution_count": null,
      "metadata": {
        "tags": [],
        "id": "JSGa5_kKjVsb"
      },
      "outputs": [],
      "source": [
        "class SiteMonitorManager:\n",
        "    def __init__(self, sites):\n",
        "        self.sites = [SiteMonitor(name, url) for name, url in sites.items()]\n",
        "        self.is_running = True\n",
        "        self.start_time = time.time()\n",
        "\n",
        "    async def monitor_sites(self):\n",
        "        end_time = time.time() + MONITORING_DURATION\n",
        "        while time.time() < end_time and self.is_running:\n",
        "            tasks = [self.check_site(site) for site in self.sites]\n",
        "            await asyncio.gather(*tasks)\n",
        "            for _ in range(PAUSE_BETWEEN_CHECKS):\n",
        "                if not self.is_running:\n",
        "                    print(\"Мониторинг остановлен\")\n",
        "                    return\n",
        "                await asyncio.sleep(1)\n",
        "        self.generate_report(MONITORING_DURATION)\n",
        "\n",
        "    async def check_site(self, site):\n",
        "        current_status = await site.check_availability()\n",
        "        site.log_status_change(current_status)\n",
        "\n",
        "    def generate_report(self, duration):\n",
        "        report = []\n",
        "        for site in self.sites:\n",
        "            uptime = ((duration - site.downtime_seconds) / duration) * 100\n",
        "            downtime = timedelta(seconds=site.downtime_seconds)\n",
        "            report.append({\n",
        "                'Наименование организации': site.name,\n",
        "                'Uptime, %': f\"{uptime:.2f}\",\n",
        "                'Общее время недоступности сайта за период': str(downtime)\n",
        "            })\n",
        "        self.print_report(report)\n",
        "        self.save_report(report)\n",
        "        print(f\"Отчет сгенерирован и сохранен в файл {REPORT_FILE}\")\n",
        "\n",
        "    def print_report(self, report):\n",
        "        header = ['Наименование организации', 'Uptime, %', 'Общее время недоступности сайта за период']\n",
        "        print(f\"{header[0]:<25} {header[1]:<10} {header[2]:<30}\")\n",
        "        print('-' * 70)\n",
        "        for row in report:\n",
        "            print(f\"{row['Наименование организации']:<25} {row['Uptime, %']:<10} {row['Общее время недоступности сайта за период']:<30}\")\n",
        "\n",
        "    def save_report(self, report):\n",
        "        with open(REPORT_FILE, 'w', encoding='utf-8') as file:\n",
        "            header = ['Наименование организации', 'Uptime, %', 'Общее время недоступности сайта за период']\n",
        "            file.write(f\"{header[0]:<25} {header[1]:<10} {header[2]:<30}\\n\")\n",
        "            file.write('-' * 70 + '\\n')\n",
        "            for row in report:\n",
        "                file.write(f\"{row['Наименование организации']:<25} {row['Uptime, %']:<10} {row['Общее время недоступности сайта за период']:<30}\\n\")\n",
        "\n",
        "    def stop(self, button):\n",
        "        self.is_running = False\n",
        "        self.generate_report(time.time() - self.start_time)\n",
        "        print(\"Мониторинг остановлен пользователем.\")"
      ]
    },
    {
      "cell_type": "code",
      "execution_count": null,
      "metadata": {
        "tags": [],
        "id": "QdwjlGwEjVsb"
      },
      "outputs": [],
      "source": [
        "if os.path.exists(LOG_FILE):\n",
        "    os.remove(LOG_FILE)\n",
        "logging.basicConfig(filename=LOG_FILE, level=logging.INFO)"
      ]
    },
    {
      "cell_type": "code",
      "execution_count": null,
      "metadata": {
        "tags": [],
        "id": "9LW7v55JjVsb"
      },
      "outputs": [],
      "source": [
        "# Перечень организаций\n",
        "sites = {\n",
        "    'Sberbank': 'https://www.sberbank.ru/',\n",
        "    'VTB': 'https://www.vtb.ru/',\n",
        "    'Gazprombank': 'https://www.gazprombank.ru/',\n",
        "    'Raiffeisen': 'https://www.raiffeisen.ru/',\n",
        "    'Tinkoff': 'https://www.tinkoff.ru/'\n",
        "}"
      ]
    },
    {
      "cell_type": "code",
      "execution_count": null,
      "metadata": {
        "tags": [],
        "id": "G7beLmjNjVsc"
      },
      "outputs": [],
      "source": [
        "manager = SiteMonitorManager(sites)\n",
        "stop_button = widgets.Button(description=\"Stop Monitoring\")\n",
        "stop_button.on_click(manager.stop)\n",
        "display(stop_button)"
      ]
    },
    {
      "cell_type": "code",
      "execution_count": null,
      "metadata": {
        "tags": [],
        "id": "wIwl7gqJjVsc"
      },
      "outputs": [],
      "source": [
        "# Запуск мониторинга\n",
        "nest_asyncio.apply()\n",
        "asyncio.run(manager.monitor_sites())"
      ]
    }
  ],
  "metadata": {
    "colab": {
      "provenance": []
    },
    "kernelspec": {
      "display_name": "Python 3 (ipykernel)",
      "language": "python",
      "name": "python3"
    },
    "language_info": {
      "codemirror_mode": {
        "name": "ipython",
        "version": 3
      },
      "file_extension": ".py",
      "mimetype": "text/x-python",
      "name": "python",
      "nbconvert_exporter": "python",
      "pygments_lexer": "ipython3",
      "version": "3.11.5"
    }
  },
  "nbformat": 4,
  "nbformat_minor": 0
}